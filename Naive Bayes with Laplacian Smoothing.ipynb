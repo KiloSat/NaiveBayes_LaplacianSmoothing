{
 "cells": [
  {
   "cell_type": "code",
   "execution_count": 1,
   "metadata": {},
   "outputs": [],
   "source": [
    "import pandas as pd\n",
    "import warnings\n",
    "warnings.filterwarnings('ignore')"
   ]
  },
  {
   "cell_type": "code",
   "execution_count": 2,
   "metadata": {},
   "outputs": [],
   "source": [
    "#reading data\n",
    "data = pd.read_csv(r'../Internship/Q2-tennis.csv')"
   ]
  },
  {
   "cell_type": "code",
   "execution_count": 3,
   "metadata": {},
   "outputs": [],
   "source": [
    "def inputData(data):\n",
    "    #60-40 split\n",
    "    separatingLen = int(len(data)*.6)\n",
    "    \n",
    "    trainingData = data[:separatingLen]\n",
    "    testData = data[separatingLen:]\n",
    "    \n",
    "    #extracting features and target\n",
    "    features = list(data)\n",
    "    target = features[4]\n",
    "    outcomes = set(data[target])\n",
    "    features.remove(target)\n",
    "    \n",
    "    #calculating prior probability \n",
    "    priorProb = {}\n",
    "    for i in outcomes:\n",
    "        priorProb[i] = 0\n",
    "    for i in (trainingData[target]):\n",
    "        for j in outcomes:\n",
    "            if i == j:\n",
    "                priorProb[i] +=1\n",
    "    for i in outcomes:\n",
    "        priorProb[i] /= len(trainingData)  \n",
    "    \n",
    "    #calculating conditional probability for features\n",
    "    yes,no = [],[]\n",
    "    for i in range(len(trainingData)):\n",
    "        if trainingData[target][i]=='yes':\n",
    "            yes.append(i)\n",
    "        else :\n",
    "            no.append(i) \n",
    "    return (features,trainingData,testData,priorProb,yes,no)           "
   ]
  },
  {
   "cell_type": "code",
   "execution_count": 4,
   "metadata": {},
   "outputs": [],
   "source": [
    "def countInstances(features,trainingData,yes,no):\n",
    "    outcomeVals1 ={}\n",
    "    outcomeVals2 ={}\n",
    "    for i in features:\n",
    "        for j in list(set(data[i])):\n",
    "            outcomeVals1[j] = 0\n",
    "            outcomeVals2[j] = 0\n",
    "    for i in yes:\n",
    "        for j in features:\n",
    "            if trainingData[j][i] in outcomeVals1:\n",
    "                outcomeVals1[trainingData[j][i]]+=1\n",
    "    for i in no:\n",
    "        for j in features:\n",
    "            if trainingData[j][i] in outcomeVals2:\n",
    "                outcomeVals2[trainingData[j][i]]+=1\n",
    "    return (outcomeVals1,outcomeVals2)        \n",
    "            "
   ]
  },
  {
   "cell_type": "code",
   "execution_count": 5,
   "metadata": {},
   "outputs": [],
   "source": [
    "def laplacianSmoothing(outcomeVals1,outcomeVals2,alpha = 1):\n",
    "    #I have taken alpha as 1 by default\n",
    "    count = 0\n",
    "    for i in outcomeVals1.keys():\n",
    "        if outcomeVals1[i]==0:\n",
    "            count+=1\n",
    "    for i in outcomeVals2.keys():\n",
    "        if outcomeVals2[i]==0:\n",
    "            count+=1\n",
    "    #print(count)        \n",
    "    if count>0:\n",
    "        for i in outcomeVals1.keys():\n",
    "            outcomeVals1[i]+=alpha\n",
    "        for i in outcomeVals2.keys():\n",
    "            outcomeVals2[i]+=alpha\n",
    "    \n",
    "    total1 = sum(outcomeVals1.values())\n",
    "    total2 = sum(outcomeVals2.values())\n",
    "    for i in outcomeVals1.keys():\n",
    "        outcomeVals1[i] = outcomeVals1[i]/total1\n",
    "    for i in outcomeVals2.keys():\n",
    "        outcomeVals2[i] = outcomeVals2[i]/total2\n",
    "     \n",
    "    return (outcomeVals1,outcomeVals2)"
   ]
  },
  {
   "cell_type": "code",
   "execution_count": 6,
   "metadata": {},
   "outputs": [],
   "source": [
    "def naiveBayes(testData,i,outcomeVals1,outcomeVals2,priorProb):\n",
    "    val1 = priorProb['yes']*outcomeVals1[testData.iloc[i]['Outlook']]*outcomeVals1[testData.iloc[i]['Temp.']]*outcomeVals1[testData.iloc[i]['Humidity']]*outcomeVals1[testData.iloc[i]['Windy']]\n",
    "    val2 = priorProb['no']*outcomeVals2[testData.iloc[i]['Outlook']]*outcomeVals2[testData.iloc[i]['Temp.']]*outcomeVals2[testData.iloc[i]['Humidity']]*outcomeVals2[testData.iloc[i]['Windy']]\n",
    "    if (val1>val2):\n",
    "        #print(val1,val2)\n",
    "        return 'yes'\n",
    "    else:\n",
    "        return 'no'\n",
    "   "
   ]
  },
  {
   "cell_type": "code",
   "execution_count": 7,
   "metadata": {},
   "outputs": [],
   "source": [
    "def gettingPredictions(testData,outcomeVals1,outcomeVals2,priorProb):\n",
    "    testData['Predictions']  = 'NA'\n",
    "    num = len(testData)\n",
    "    outcomeList = []\n",
    "    for i in range(len(testData)):\n",
    "        outcomeList.append(naiveBayes(testData,i,outcomeVals1,outcomeVals2,priorProb))\n",
    "    testData.loc[:]['Predictions'] = outcomeList\n",
    "    return testData"
   ]
  },
  {
   "cell_type": "code",
   "execution_count": 8,
   "metadata": {},
   "outputs": [],
   "source": [
    "def main(alpha):\n",
    "    data = pd.read_csv(r'../Internship/Q2-tennis.csv')\n",
    "    \n",
    "    #extraction\n",
    "    features,trainingData,testData,priorProb,yes,no=inputData(data)\n",
    "    \n",
    "    #processing\n",
    "    outcomeVals1,outcomeVals2=countInstances(features,trainingData,yes,no)\n",
    "    outcomeVals1,outcomeVals2=laplacianSmoothing(outcomeVals1,outcomeVals2,alpha)\n",
    "    \n",
    "    #getting output\n",
    "    return gettingPredictions(testData,outcomeVals1,outcomeVals2,priorProb)\n",
    "    \n",
    "     "
   ]
  },
  {
   "cell_type": "code",
   "execution_count": 11,
   "metadata": {},
   "outputs": [
    {
     "name": "stdout",
     "output_type": "stream",
     "text": [
      "Enter an int value for alpha\n",
      "1\n"
     ]
    }
   ],
   "source": [
    "# select an integer value for alpha of Laplacian Smoothing\n",
    "alpha = int(input('Enter an int value for alpha\\n'))"
   ]
  },
  {
   "cell_type": "code",
   "execution_count": 12,
   "metadata": {},
   "outputs": [
    {
     "data": {
      "text/html": [
       "<div>\n",
       "<style scoped>\n",
       "    .dataframe tbody tr th:only-of-type {\n",
       "        vertical-align: middle;\n",
       "    }\n",
       "\n",
       "    .dataframe tbody tr th {\n",
       "        vertical-align: top;\n",
       "    }\n",
       "\n",
       "    .dataframe thead th {\n",
       "        text-align: right;\n",
       "    }\n",
       "</style>\n",
       "<table border=\"1\" class=\"dataframe\">\n",
       "  <thead>\n",
       "    <tr style=\"text-align: right;\">\n",
       "      <th></th>\n",
       "      <th>Outlook</th>\n",
       "      <th>Temp.</th>\n",
       "      <th>Humidity</th>\n",
       "      <th>Windy</th>\n",
       "      <th>Play</th>\n",
       "      <th>Predictions</th>\n",
       "    </tr>\n",
       "  </thead>\n",
       "  <tbody>\n",
       "    <tr>\n",
       "      <th>8</th>\n",
       "      <td>sunny</td>\n",
       "      <td>cool</td>\n",
       "      <td>normal</td>\n",
       "      <td>false</td>\n",
       "      <td>yes</td>\n",
       "      <td>no</td>\n",
       "    </tr>\n",
       "    <tr>\n",
       "      <th>9</th>\n",
       "      <td>rainy</td>\n",
       "      <td>mild</td>\n",
       "      <td>normal</td>\n",
       "      <td>false</td>\n",
       "      <td>yes</td>\n",
       "      <td>yes</td>\n",
       "    </tr>\n",
       "    <tr>\n",
       "      <th>10</th>\n",
       "      <td>sunny</td>\n",
       "      <td>mild</td>\n",
       "      <td>normal</td>\n",
       "      <td>true</td>\n",
       "      <td>yes</td>\n",
       "      <td>no</td>\n",
       "    </tr>\n",
       "    <tr>\n",
       "      <th>11</th>\n",
       "      <td>overcast</td>\n",
       "      <td>mild</td>\n",
       "      <td>high</td>\n",
       "      <td>true</td>\n",
       "      <td>yes</td>\n",
       "      <td>yes</td>\n",
       "    </tr>\n",
       "    <tr>\n",
       "      <th>12</th>\n",
       "      <td>overcast</td>\n",
       "      <td>hot</td>\n",
       "      <td>normal</td>\n",
       "      <td>false</td>\n",
       "      <td>yes</td>\n",
       "      <td>yes</td>\n",
       "    </tr>\n",
       "    <tr>\n",
       "      <th>13</th>\n",
       "      <td>rainy</td>\n",
       "      <td>mild</td>\n",
       "      <td>high</td>\n",
       "      <td>true</td>\n",
       "      <td>no</td>\n",
       "      <td>no</td>\n",
       "    </tr>\n",
       "  </tbody>\n",
       "</table>\n",
       "</div>"
      ],
      "text/plain": [
       "     Outlook Temp. Humidity   Windy Play Predictions\n",
       "8      sunny  cool   normal  false   yes          no\n",
       "9      rainy  mild   normal  false   yes         yes\n",
       "10     sunny  mild   normal   true   yes          no\n",
       "11  overcast  mild     high   true   yes         yes\n",
       "12  overcast   hot   normal  false   yes         yes\n",
       "13     rainy  mild     high   true    no          no"
      ]
     },
     "execution_count": 12,
     "metadata": {},
     "output_type": "execute_result"
    }
   ],
   "source": [
    "main(alpha)"
   ]
  },
  {
   "cell_type": "code",
   "execution_count": null,
   "metadata": {},
   "outputs": [],
   "source": []
  }
 ],
 "metadata": {
  "kernelspec": {
   "display_name": "Python 3",
   "language": "python",
   "name": "python3"
  },
  "language_info": {
   "codemirror_mode": {
    "name": "ipython",
    "version": 3
   },
   "file_extension": ".py",
   "mimetype": "text/x-python",
   "name": "python",
   "nbconvert_exporter": "python",
   "pygments_lexer": "ipython3",
   "version": "3.7.6"
  }
 },
 "nbformat": 4,
 "nbformat_minor": 4
}
